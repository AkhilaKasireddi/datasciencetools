{
 "cells": [
  {
   "cell_type": "markdown",
   "id": "59a3d792-c778-4046-93fc-087e20a7cad4",
   "metadata": {},
   "source": [
    "# Data Science Tools and Ecosystem"
   ]
  },
  {
   "cell_type": "markdown",
   "id": "612bf07d-81dd-47e1-986b-bfeb7c8bb6fb",
   "metadata": {},
   "source": [
    "In this notebook, Data Science Tools and Ecosystem are summarized."
   ]
  },
  {
   "cell_type": "markdown",
   "id": "2e619e74-ced6-4dc5-81ef-168ca3bfcfb8",
   "metadata": {},
   "source": [
    "Some of the popular languages that Data Scientists use are:\n",
    "\n",
    "1. Python\n",
    "2. R\n",
    "3. SQL\n",
    "4. Java\n",
    "5. Scala\n",
    "6. Julia\n",
    "7. MATLAB\n",
    "8. SAS\n",
    "9. JavaScript\n",
    "10. C++"
   ]
  },
  {
   "cell_type": "markdown",
   "id": "d2d14740-d6f7-438c-97e0-fa10005cb97e",
   "metadata": {},
   "source": [
    "Some of the commonly used libraries used by Data Scientists include:\n",
    "\n",
    "1. Pandas (Python)\n",
    "2. NumPy (Python)\n",
    "3. SciPy (Python)\n",
    "4. Scikit-learn (Python)\n",
    "5. TensorFlow (Python)\n",
    "6. Keras (Python)\n",
    "7. PyTorch (Python)\n",
    "8. Matplotlib (Python)\n",
    "9. Seaborn (Python)\n",
    "10. StatsModels (Python)\n",
    "11. NLTK (Python)\n",
    "12. spaCy (Python)\n",
    "13. Ggplot2 (R)\n",
    "14. dplyr (R)\n",
    "15. caret (R)"
   ]
  },
  {
   "cell_type": "markdown",
   "id": "2bb1a43e-5392-41c0-98f8-40ae707596f4",
   "metadata": {},
   "source": [
    "| Data Science Tools |\n",
    "|:-:|\n",
    "|Jupyter Notebooks|\n",
    "|RStudio          |\n",
    "|Anaconda         |\n",
    "|Tableau          |\n",
    "|Apache Spark     |\n",
    "|TensorFlow       |\n",
    "|Scikit-learn     |"
   ]
  },
  {
   "cell_type": "markdown",
   "id": "8cfd0628-a267-4c35-8d15-98d05abebad5",
   "metadata": {},
   "source": [
    "### Below are a few examples of evaluating arithmetic expressions in Python"
   ]
  },
  {
   "cell_type": "code",
   "execution_count": 2,
   "id": "7646d5ab-67e1-4135-bc95-9a57c5f715a3",
   "metadata": {},
   "outputs": [
    {
     "data": {
      "text/plain": [
       "17"
      ]
     },
     "execution_count": 2,
     "metadata": {},
     "output_type": "execute_result"
    }
   ],
   "source": [
    "#This a simple arithmetic expression to mutiply then add integers.\n",
    "(3*4)+5"
   ]
  },
  {
   "cell_type": "code",
   "execution_count": 4,
   "id": "9ccf610a-8e18-4650-bea7-64ef4542564c",
   "metadata": {},
   "outputs": [
    {
     "data": {
      "text/plain": [
       "3"
      ]
     },
     "execution_count": 4,
     "metadata": {},
     "output_type": "execute_result"
    }
   ],
   "source": [
    "#This will convert 200 minutes to hours by diving by 60\n",
    "200//60"
   ]
  },
  {
   "cell_type": "markdown",
   "id": "966f5922-090d-44cd-8fed-738cf433d2d3",
   "metadata": {},
   "source": [
    "### Objectives:\n",
    "- List popular languages for Data Science.\n",
    "- Add comments to code cell\n",
    "- Create markdown cells\n",
    "- Add ordered and unordered cells"
   ]
  },
  {
   "cell_type": "markdown",
   "id": "f36e307e-9f63-4fb7-8150-b7e9a52f4f9f",
   "metadata": {},
   "source": [
    "## Author\n",
    "Kasireddy Akhila"
   ]
  },
  {
   "cell_type": "code",
   "execution_count": null,
   "id": "a2582f61-b115-4dc8-bd07-06c724b60322",
   "metadata": {},
   "outputs": [],
   "source": []
  }
 ],
 "metadata": {
  "kernelspec": {
   "display_name": "Python 3 (ipykernel)",
   "language": "python",
   "name": "python3"
  },
  "language_info": {
   "codemirror_mode": {
    "name": "ipython",
    "version": 3
   },
   "file_extension": ".py",
   "mimetype": "text/x-python",
   "name": "python",
   "nbconvert_exporter": "python",
   "pygments_lexer": "ipython3",
   "version": "3.11.7"
  }
 },
 "nbformat": 4,
 "nbformat_minor": 5
}
